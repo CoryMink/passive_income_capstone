{
 "cells": [
  {
   "cell_type": "code",
   "execution_count": 1,
   "id": "f9bccf5d",
   "metadata": {},
   "outputs": [],
   "source": [
    "import pandas as pd\n",
    "import numpy  as np\n",
    "import yfinance as yf\n",
    "import pandas_ta as ta\n",
    "import matplotlib.pyplot as plt\n",
    "# sklearn\n",
    "from sklearn.model_selection  import train_test_split, GridSearchCV\n",
    "from sklearn.pipeline         import Pipeline\n",
    "from sklearn.preprocessing    import MinMaxScaler\n",
    "from sklearn.linear_model     import Ridge\n",
    "from sklearn.metrics          import mean_squared_error"
   ]
  },
  {
   "cell_type": "code",
   "execution_count": 2,
   "id": "229470df",
   "metadata": {},
   "outputs": [
    {
     "name": "stdout",
     "output_type": "stream",
     "text": [
      "[*********************100%***********************]  1 of 1 completed\n"
     ]
    },
    {
     "data": {
      "text/html": [
       "<div>\n",
       "<style scoped>\n",
       "    .dataframe tbody tr th:only-of-type {\n",
       "        vertical-align: middle;\n",
       "    }\n",
       "\n",
       "    .dataframe tbody tr th {\n",
       "        vertical-align: top;\n",
       "    }\n",
       "\n",
       "    .dataframe thead th {\n",
       "        text-align: right;\n",
       "    }\n",
       "</style>\n",
       "<table border=\"1\" class=\"dataframe\">\n",
       "  <thead>\n",
       "    <tr style=\"text-align: right;\">\n",
       "      <th></th>\n",
       "      <th>Open</th>\n",
       "      <th>High</th>\n",
       "      <th>Low</th>\n",
       "      <th>Close</th>\n",
       "      <th>Adj Close</th>\n",
       "      <th>Volume</th>\n",
       "    </tr>\n",
       "    <tr>\n",
       "      <th>Date</th>\n",
       "      <th></th>\n",
       "      <th></th>\n",
       "      <th></th>\n",
       "      <th></th>\n",
       "      <th></th>\n",
       "      <th></th>\n",
       "    </tr>\n",
       "  </thead>\n",
       "  <tbody>\n",
       "    <tr>\n",
       "      <th>2003-12-01</th>\n",
       "      <td>1.203398</td>\n",
       "      <td>1.204007</td>\n",
       "      <td>1.194401</td>\n",
       "      <td>1.196501</td>\n",
       "      <td>1.196501</td>\n",
       "      <td>0</td>\n",
       "    </tr>\n",
       "    <tr>\n",
       "      <th>2003-12-02</th>\n",
       "      <td>1.196101</td>\n",
       "      <td>1.210903</td>\n",
       "      <td>1.194600</td>\n",
       "      <td>1.208897</td>\n",
       "      <td>1.208897</td>\n",
       "      <td>0</td>\n",
       "    </tr>\n",
       "    <tr>\n",
       "      <th>2003-12-03</th>\n",
       "      <td>1.209000</td>\n",
       "      <td>1.213003</td>\n",
       "      <td>1.207700</td>\n",
       "      <td>1.212298</td>\n",
       "      <td>1.212298</td>\n",
       "      <td>0</td>\n",
       "    </tr>\n",
       "    <tr>\n",
       "      <th>2003-12-04</th>\n",
       "      <td>1.212004</td>\n",
       "      <td>1.214403</td>\n",
       "      <td>1.204398</td>\n",
       "      <td>1.208094</td>\n",
       "      <td>1.208094</td>\n",
       "      <td>0</td>\n",
       "    </tr>\n",
       "    <tr>\n",
       "      <th>2003-12-05</th>\n",
       "      <td>1.207802</td>\n",
       "      <td>1.219096</td>\n",
       "      <td>1.206593</td>\n",
       "      <td>1.218695</td>\n",
       "      <td>1.218695</td>\n",
       "      <td>0</td>\n",
       "    </tr>\n",
       "  </tbody>\n",
       "</table>\n",
       "</div>"
      ],
      "text/plain": [
       "                Open      High       Low     Close  Adj Close  Volume\n",
       "Date                                                                 \n",
       "2003-12-01  1.203398  1.204007  1.194401  1.196501   1.196501       0\n",
       "2003-12-02  1.196101  1.210903  1.194600  1.208897   1.208897       0\n",
       "2003-12-03  1.209000  1.213003  1.207700  1.212298   1.212298       0\n",
       "2003-12-04  1.212004  1.214403  1.204398  1.208094   1.208094       0\n",
       "2003-12-05  1.207802  1.219096  1.206593  1.218695   1.218695       0"
      ]
     },
     "execution_count": 2,
     "metadata": {},
     "output_type": "execute_result"
    }
   ],
   "source": [
    "# Data request from Yahoo Finance\n",
    "data = yf.download(tickers='EURUSD=X', start='2000-01-01', end='2022-01-01')\n",
    "# Change index format\n",
    "data.index = pd.to_datetime(data.index, format = '%Y-%m-%d').strftime('%Y-%m-%d')\n",
    "data.head()"
   ]
  },
  {
   "cell_type": "markdown",
   "id": "9e9a46d7",
   "metadata": {},
   "source": [
    "### RSI, 3MA"
   ]
  },
  {
   "cell_type": "code",
   "execution_count": 3,
   "id": "918d5a46",
   "metadata": {},
   "outputs": [
    {
     "data": {
      "text/html": [
       "<div>\n",
       "<style scoped>\n",
       "    .dataframe tbody tr th:only-of-type {\n",
       "        vertical-align: middle;\n",
       "    }\n",
       "\n",
       "    .dataframe tbody tr th {\n",
       "        vertical-align: top;\n",
       "    }\n",
       "\n",
       "    .dataframe thead th {\n",
       "        text-align: right;\n",
       "    }\n",
       "</style>\n",
       "<table border=\"1\" class=\"dataframe\">\n",
       "  <thead>\n",
       "    <tr style=\"text-align: right;\">\n",
       "      <th></th>\n",
       "      <th>RSI</th>\n",
       "      <th>EMAF</th>\n",
       "      <th>EMAM</th>\n",
       "      <th>EMAS</th>\n",
       "      <th>NextClose</th>\n",
       "    </tr>\n",
       "  </thead>\n",
       "  <tbody>\n",
       "    <tr>\n",
       "      <th>0</th>\n",
       "      <td>41.059086</td>\n",
       "      <td>1.212556</td>\n",
       "      <td>1.225697</td>\n",
       "      <td>1.240527</td>\n",
       "      <td>1.200696</td>\n",
       "    </tr>\n",
       "    <tr>\n",
       "      <th>1</th>\n",
       "      <td>41.325468</td>\n",
       "      <td>1.211478</td>\n",
       "      <td>1.224716</td>\n",
       "      <td>1.239739</td>\n",
       "      <td>1.184806</td>\n",
       "    </tr>\n",
       "    <tr>\n",
       "      <th>2</th>\n",
       "      <td>34.680444</td>\n",
       "      <td>1.209054</td>\n",
       "      <td>1.223151</td>\n",
       "      <td>1.238651</td>\n",
       "      <td>1.181000</td>\n",
       "    </tr>\n",
       "    <tr>\n",
       "      <th>3</th>\n",
       "      <td>33.299369</td>\n",
       "      <td>1.206503</td>\n",
       "      <td>1.221498</td>\n",
       "      <td>1.237509</td>\n",
       "      <td>1.192506</td>\n",
       "    </tr>\n",
       "    <tr>\n",
       "      <th>4</th>\n",
       "      <td>40.954946</td>\n",
       "      <td>1.205231</td>\n",
       "      <td>1.220361</td>\n",
       "      <td>1.236618</td>\n",
       "      <td>1.185003</td>\n",
       "    </tr>\n",
       "  </tbody>\n",
       "</table>\n",
       "</div>"
      ],
      "text/plain": [
       "         RSI      EMAF      EMAM      EMAS  NextClose\n",
       "0  41.059086  1.212556  1.225697  1.240527   1.200696\n",
       "1  41.325468  1.211478  1.224716  1.239739   1.184806\n",
       "2  34.680444  1.209054  1.223151  1.238651   1.181000\n",
       "3  33.299369  1.206503  1.221498  1.237509   1.192506\n",
       "4  40.954946  1.205231  1.220361  1.236618   1.185003"
      ]
     },
     "execution_count": 3,
     "metadata": {},
     "output_type": "execute_result"
    }
   ],
   "source": [
    "# Adding indicators\n",
    "data['RSI']  = ta.rsi(data.Close, length=14)\n",
    "data['EMAF'] = ta.ema(data.Close, length=21)\n",
    "data['EMAM'] = ta.ema(data.Close, length=50)\n",
    "data['EMAS'] = ta.ema(data.Close, length=100)\n",
    "\n",
    "# Add column 'NextClose' for next close price\n",
    "data['NextClose'] = data['Close'].shift(-1)\n",
    "\n",
    "data.dropna(inplace=True)\n",
    "data.reset_index(inplace=True)\n",
    "data.drop(['Open','High','Low','Adj Close','Volume', 'Close','Date'], axis=1, inplace=True)\n",
    "data.head()"
   ]
  },
  {
   "cell_type": "code",
   "execution_count": 4,
   "id": "0883c6e1",
   "metadata": {},
   "outputs": [
    {
     "data": {
      "text/plain": [
       "Index(['RSI', 'EMAF', 'EMAM', 'EMAS', 'NextClose'], dtype='object')"
      ]
     },
     "execution_count": 4,
     "metadata": {},
     "output_type": "execute_result"
    }
   ],
   "source": [
    "data.columns"
   ]
  },
  {
   "cell_type": "code",
   "execution_count": 5,
   "id": "76b2b6bc",
   "metadata": {},
   "outputs": [],
   "source": [
    "# Set featuer variable and target variable\n",
    "X = data[['RSI', 'EMAF', 'EMAM', 'EMAS']]\n",
    "y = data['NextClose']"
   ]
  },
  {
   "cell_type": "code",
   "execution_count": 6,
   "id": "bf0f08a9",
   "metadata": {},
   "outputs": [],
   "source": [
    "# Train/Test split 80/20\n",
    "X_train,X_test,y_train,y_test = train_test_split(X,y,shuffle=False,test_size=0.2)"
   ]
  },
  {
   "cell_type": "code",
   "execution_count": 7,
   "id": "c02a47c8",
   "metadata": {},
   "outputs": [],
   "source": [
    "def pred_viz(y_pred):\n",
    "    ''' Visualization function for \n",
    "        Train, Test, and Prediction data'''\n",
    "    plt.figure(figsize=(12,5))\n",
    "    y_train.plot(label='TrainData')\n",
    "    y_test.plot(label='TestData')\n",
    "    pd.Series(y_pred,y_test.index).plot(label='Prediction',alpha=0.75)\n",
    "    plt.legend();"
   ]
  },
  {
   "cell_type": "code",
   "execution_count": 8,
   "id": "0543a3f1",
   "metadata": {},
   "outputs": [
    {
     "name": "stdout",
     "output_type": "stream",
     "text": [
      "BestScore:  0.96965\n",
      "BestParams: {'rg__alpha': 0.01}\n",
      "MSE Score:  5e-05\n",
      "RMSE Score: 0.00728\n"
     ]
    },
    {
     "data": {
      "image/png": "[encoded data removed]",
      "text/plain": [
       "<Figure size 864x360 with 1 Axes>"
      ]
     },
     "metadata": {
      "needs_background": "light"
     },
     "output_type": "display_data"
    }
   ],
   "source": [
    "# Ridge with pipeline and gridsearch\n",
    "pipe3 = Pipeline([('sc',MinMaxScaler(feature_range=(0,1))),('rg',Ridge())])\n",
    "params3 = {'rg__alpha': [.01,.1,1,10]}\n",
    "grid3 = GridSearchCV(pipe3,param_grid=params3)\n",
    "grid3.fit(X_train,y_train)\n",
    "y_pred3 = grid3.predict(X_test)\n",
    "mse3 = mean_squared_error(y_test, y_pred3)\n",
    "rmse3 = mean_squared_error(y_test, y_pred3, squared=False)\n",
    "# --------------------------------------------------------\n",
    "print(f'BestScore:  {grid3.best_score_.round(5)}')\n",
    "print(f'BestParams: {grid3.best_params_}')\n",
    "print(f'MSE Score:  {mse3.round(5)}')\n",
    "print(f'RMSE Score: {rmse3.round(5)}')\n",
    "# --------------------------------------------------------\n",
    "# Visualization\n",
    "pred_viz(y_pred3)"
   ]
  },
  {
   "cell_type": "raw",
   "id": "6b35ac45",
   "metadata": {},
   "source": [
    "BestScore:  0.97875 --> 0.96956\n",
    "MSE Score:  1e-05 --> 5e-05\n",
    "RMSE Score: 0.00377 --> 0.00725\n",
    "    \n",
    "BestScore:  0.97905 --> 0.96965\n",
    "BestParams: {'rg__alpha': 0.1}\n",
    "MSE Score:  2e-05 --> 5e-05\n",
    "RMSE Score: 0.00397 --> 0.00728"
   ]
  },
  {
   "cell_type": "markdown",
   "id": "79743a30",
   "metadata": {},
   "source": [
    "### OPEN HIGH LOW"
   ]
  },
  {
   "cell_type": "code",
   "execution_count": 9,
   "id": "d2b1839b",
   "metadata": {},
   "outputs": [
    {
     "name": "stdout",
     "output_type": "stream",
     "text": [
      "[*********************100%***********************]  1 of 1 completed\n"
     ]
    },
    {
     "data": {
      "text/html": [
       "<div>\n",
       "<style scoped>\n",
       "    .dataframe tbody tr th:only-of-type {\n",
       "        vertical-align: middle;\n",
       "    }\n",
       "\n",
       "    .dataframe tbody tr th {\n",
       "        vertical-align: top;\n",
       "    }\n",
       "\n",
       "    .dataframe thead th {\n",
       "        text-align: right;\n",
       "    }\n",
       "</style>\n",
       "<table border=\"1\" class=\"dataframe\">\n",
       "  <thead>\n",
       "    <tr style=\"text-align: right;\">\n",
       "      <th></th>\n",
       "      <th>High</th>\n",
       "      <th>Low</th>\n",
       "      <th>NextClose</th>\n",
       "    </tr>\n",
       "  </thead>\n",
       "  <tbody>\n",
       "    <tr>\n",
       "      <th>0</th>\n",
       "      <td>1.204007</td>\n",
       "      <td>1.194401</td>\n",
       "      <td>1.208897</td>\n",
       "    </tr>\n",
       "    <tr>\n",
       "      <th>1</th>\n",
       "      <td>1.210903</td>\n",
       "      <td>1.194600</td>\n",
       "      <td>1.212298</td>\n",
       "    </tr>\n",
       "    <tr>\n",
       "      <th>2</th>\n",
       "      <td>1.213003</td>\n",
       "      <td>1.207700</td>\n",
       "      <td>1.208094</td>\n",
       "    </tr>\n",
       "    <tr>\n",
       "      <th>3</th>\n",
       "      <td>1.214403</td>\n",
       "      <td>1.204398</td>\n",
       "      <td>1.218695</td>\n",
       "    </tr>\n",
       "    <tr>\n",
       "      <th>4</th>\n",
       "      <td>1.219096</td>\n",
       "      <td>1.206593</td>\n",
       "      <td>1.222001</td>\n",
       "    </tr>\n",
       "  </tbody>\n",
       "</table>\n",
       "</div>"
      ],
      "text/plain": [
       "       High       Low  NextClose\n",
       "0  1.204007  1.194401   1.208897\n",
       "1  1.210903  1.194600   1.212298\n",
       "2  1.213003  1.207700   1.208094\n",
       "3  1.214403  1.204398   1.218695\n",
       "4  1.219096  1.206593   1.222001"
      ]
     },
     "execution_count": 9,
     "metadata": {},
     "output_type": "execute_result"
    }
   ],
   "source": [
    "# Data request from Yahoo Finance\n",
    "data = yf.download(tickers='EURUSD=X', start='2000-01-01', end='2022-01-01')\n",
    "# Change index format\n",
    "data.index = pd.to_datetime(data.index, format = '%Y-%m-%d').strftime('%Y-%m-%d')\n",
    "data.reset_index(inplace=True)\n",
    "# Add column 'NextClose' for next close price\n",
    "data['NextClose'] = data['Close'].shift(-1)\n",
    "data.dropna(inplace=True)\n",
    "data.drop(['Open','Close','Adj Close','Volume','Date'], axis=1, inplace=True)\n",
    "data.head()"
   ]
  },
  {
   "cell_type": "code",
   "execution_count": 10,
   "id": "39dfac0f",
   "metadata": {},
   "outputs": [],
   "source": [
    "# Set featuer variable and target variable\n",
    "X = data[['High','Low']]\n",
    "y = data['NextClose']"
   ]
  },
  {
   "cell_type": "code",
   "execution_count": 11,
   "id": "83396f5a",
   "metadata": {},
   "outputs": [],
   "source": [
    "# Train/Test split 80/20\n",
    "X_train,X_test,y_train,y_test = train_test_split(X,y,shuffle=False,test_size=0.2)"
   ]
  },
  {
   "cell_type": "code",
   "execution_count": 12,
   "id": "13815fe9",
   "metadata": {},
   "outputs": [
    {
     "name": "stdout",
     "output_type": "stream",
     "text": [
      "BestScore:  0.97765\n",
      "BestParams: {'rg__alpha': 0.01}\n",
      "MSE Score:  1e-05\n",
      "RMSE Score: 0.00347\n"
     ]
    },
    {
     "data": {
      "image/png": "[encoded data removed]",
      "text/plain": [
       "<Figure size 864x360 with 1 Axes>"
      ]
     },
     "metadata": {
      "needs_background": "light"
     },
     "output_type": "display_data"
    }
   ],
   "source": [
    "# Ridge with pipeline and gridsearch\n",
    "pipe3 = Pipeline([('sc',MinMaxScaler(feature_range=(0,1))),('rg',Ridge())])\n",
    "params3 = {'rg__alpha': [.01,.1,1,10]}\n",
    "grid3 = GridSearchCV(pipe3,param_grid=params3)\n",
    "grid3.fit(X_train,y_train)\n",
    "y_pred3 = grid3.predict(X_test)\n",
    "mse3 = mean_squared_error(y_test, y_pred3)\n",
    "rmse3 = mean_squared_error(y_test, y_pred3, squared=False)\n",
    "# --------------------------------------------------------\n",
    "print(f'BestScore:  {grid3.best_score_.round(5)}')\n",
    "print(f'BestParams: {grid3.best_params_}')\n",
    "print(f'MSE Score:  {mse3.round(5)}')\n",
    "print(f'RMSE Score: {rmse3.round(5)}')\n",
    "# --------------------------------------------------------\n",
    "# Visualization\n",
    "pred_viz(y_pred3)"
   ]
  },
  {
   "cell_type": "code",
   "execution_count": null,
   "id": "cd24e0aa",
   "metadata": {},
   "outputs": [],
   "source": []
  }
 ],
 "metadata": {
  "kernelspec": {
   "display_name": "Python 3 (ipykernel)",
   "language": "python",
   "name": "python3"
  },
  "language_info": {
   "codemirror_mode": {
    "name": "ipython",
    "version": 3
   },
   "file_extension": ".py",
   "mimetype": "text/x-python",
   "name": "python",
   "nbconvert_exporter": "python",
   "pygments_lexer": "ipython3",
   "version": "3.9.12"
  }
 },
 "nbformat": 4,
 "nbformat_minor": 5
}
