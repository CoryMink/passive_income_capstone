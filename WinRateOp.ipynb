{
 "cells": [
  {
   "cell_type": "markdown",
   "id": "80fbf70d-5b73-4788-bd95-b8917d50277e",
   "metadata": {
    "tags": []
   },
   "source": [
    "### Libraries"
   ]
  },
  {
   "cell_type": "code",
   "execution_count": 55,
   "id": "e2ff007d-e312-4c83-ae81-5aad47adfba2",
   "metadata": {},
   "outputs": [],
   "source": [
    "import pandas  as pd\n",
    "import numpy   as np\n",
    "import seaborn as sns\n",
    "import matplotlib.pyplot as plt\n",
    "from backtesting import Strategy\n",
    "from backtesting import Backtest\n",
    "import talib as ta\n",
    "from backtesting.lib  import crossover\n",
    "from datetime    import datetime"
   ]
  },
  {
   "cell_type": "markdown",
   "id": "c2a72e4c-f51f-407b-b7a8-f2f1684558e9",
   "metadata": {
    "tags": []
   },
   "source": [
    "### OHLC data and EDA"
   ]
  },
  {
   "cell_type": "code",
   "execution_count": 56,
   "id": "85eda1bd-7ca5-4913-abec-e4f5a3fc97a7",
   "metadata": {
    "tags": []
   },
   "outputs": [
    {
     "data": {
      "text/plain": [
       "(2661, 4)"
      ]
     },
     "execution_count": 56,
     "metadata": {},
     "output_type": "execute_result"
    }
   ],
   "source": [
    "# read in csv data\n",
    "df = pd.read_csv(\"EURUSD_Daily_201201020000_202112310000.csv\",sep=\"\\t\")\n",
    "# create 'date' columns as datetime obj\n",
    "df['date'] = pd.to_datetime(df['<DATE>'])\n",
    "# drop unwanted columns\n",
    "df.drop(columns=['<DATE>','<TICKVOL>','<VOL>', '<SPREAD>'], inplace=True)\n",
    "# rename columns\n",
    "df.columns = ['open','high','low','close','date']\n",
    "# set date as index \n",
    "df.set_index('date', inplace=True)\n",
    "df.shape"
   ]
  },
  {
   "cell_type": "markdown",
   "id": "df3d3684-ba47-4ad3-915b-7b8cf221ff0c",
   "metadata": {
    "tags": []
   },
   "source": [
    "### RSI - Momentun indicator"
   ]
  },
  {
   "cell_type": "code",
   "execution_count": 77,
   "id": "b4acea80-ad2d-4d3e-bd1e-89de244d8ff3",
   "metadata": {},
   "outputs": [],
   "source": [
    "class RSICross(Strategy):\n",
    "    upper  = 70\n",
    "    lower  = 30\n",
    "    window = 14\n",
    "        \n",
    "    def init(self):\n",
    "        self.rsi = self.I(ta.RSI, self.data.Close, self.window)\n",
    "                \n",
    "    def next(self):\n",
    "        \n",
    "        if crossover(self.lower,self.rsi):\n",
    "                self.position.close()\n",
    "                self.buy()\n",
    "                        \n",
    "        elif crossover(self.rsi, self.upper):\n",
    "                self.position.close()\n",
    "                self.sell()"
   ]
  },
  {
   "cell_type": "code",
   "execution_count": 78,
   "id": "fcf00455-51d2-4604-b74e-a7d4a264c7fc",
   "metadata": {},
   "outputs": [
    {
     "data": {
      "application/vnd.jupyter.widget-view+json": {
       "model_id": "",
       "version_major": 2,
       "version_minor": 0
      },
      "text/plain": [
       "  0%|          | 0/22 [00:00<?, ?it/s]"
      ]
     },
     "metadata": {},
     "output_type": "display_data"
    }
   ],
   "source": [
    "# rename to match Backtesting library\n",
    "df.columns = ['Open', 'High', 'Low', 'Close']\n",
    "backtest = Backtest(df, RSICross, cash=10000,commission=.002)\n",
    "stats, heatmap = backtest.optimize(\n",
    "    upper=range(70,80,5),\n",
    "    lower=range(20,30,5),\n",
    "    window=range(14,25,1),\n",
    "    maximize='Win Rate [%]',\n",
    "    return_heatmap=True)"
   ]
  },
  {
   "cell_type": "code",
   "execution_count": 79,
   "id": "838c8c9d-6a31-4c1c-8da0-3d2bcc8d7aab",
   "metadata": {},
   "outputs": [
    {
     "data": {
      "text/plain": [
       "Start                     2012-01-02 00:00:00\n",
       "End                       2021-12-31 00:00:00\n",
       "Duration                   3651 days 00:00:00\n",
       "Exposure Time [%]                   13.866967\n",
       "Equity Final [$]                 10425.814855\n",
       "Equity Peak [$]                  10530.005095\n",
       "Return [%]                           4.258149\n",
       "Buy & Hold Return [%]              -12.113996\n",
       "Return (Ann.) [%]                    0.395683\n",
       "Volatility (Ann.) [%]                2.180112\n",
       "Sharpe Ratio                         0.181497\n",
       "Sortino Ratio                         0.27084\n",
       "Calmar Ratio                          0.06866\n",
       "Max. Drawdown [%]                   -5.762912\n",
       "Avg. Drawdown [%]                   -1.203517\n",
       "Max. Drawdown Duration      369 days 00:00:00\n",
       "Avg. Drawdown Duration       51 days 00:00:00\n",
       "# Trades                                    1\n",
       "Win Rate [%]                            100.0\n",
       "Best Trade [%]                       4.258551\n",
       "Worst Trade [%]                      4.258551\n",
       "Avg. Trade [%]                       4.258551\n",
       "Max. Trade Duration         518 days 00:00:00\n",
       "Avg. Trade Duration         518 days 00:00:00\n",
       "Profit Factor                             NaN\n",
       "Expectancy [%]                       4.258551\n",
       "SQN                                       NaN\n",
       "_strategy                 RSICross(upper=7...\n",
       "_equity_curve                             ...\n",
       "_trades                      Size  EntryBa...\n",
       "dtype: object"
      ]
     },
     "execution_count": 79,
     "metadata": {},
     "output_type": "execute_result"
    }
   ],
   "source": [
    "stats"
   ]
  },
  {
   "cell_type": "code",
   "execution_count": 81,
   "id": "2df08e05-7576-40ce-b99d-c4b019152304",
   "metadata": {},
   "outputs": [
    {
     "data": {
      "text/plain": [
       "<Strategy RSICross(upper=75,lower=20,window=22)>"
      ]
     },
     "execution_count": 81,
     "metadata": {},
     "output_type": "execute_result"
    }
   ],
   "source": [
    "stats[27]"
   ]
  },
  {
   "cell_type": "code",
   "execution_count": 82,
   "id": "f1572b4f-0e24-40e9-8c12-274d0297b69a",
   "metadata": {},
   "outputs": [],
   "source": [
    "hm1 = heatmap.groupby(['window','upper']).mean().unstack()\n",
    "hm2 = heatmap.groupby(['window','lower']).mean().unstack()\n",
    "hm3 = heatmap.groupby(['upper','lower']).mean().unstack()"
   ]
  },
  {
   "cell_type": "code",
   "execution_count": 83,
   "id": "93d4ff08-c2b0-4bba-9458-5ee7e8b2f587",
   "metadata": {},
   "outputs": [
    {
     "data": {
      "image/png": "[encoded data removed]",
      "text/plain": [
       "<Figure size 360x360 with 2 Axes>"
      ]
     },
     "metadata": {
      "needs_background": "light"
     },
     "output_type": "display_data"
    }
   ],
   "source": [
    "plt.figure(figsize=(5,5))\n",
    "sns.heatmap(hm1, cmap='viridis', annot=True);"
   ]
  },
  {
   "cell_type": "code",
   "execution_count": 84,
   "id": "d7661f8b-98c3-48f2-b62f-754dc03a6314",
   "metadata": {},
   "outputs": [
    {
     "data": {
      "image/png": "[encoded data removed]",
      "text/plain": [
       "<Figure size 360x360 with 2 Axes>"
      ]
     },
     "metadata": {
      "needs_background": "light"
     },
     "output_type": "display_data"
    }
   ],
   "source": [
    "plt.figure(figsize=(5,5))\n",
    "sns.heatmap(hm2, cmap='viridis', annot=True);"
   ]
  },
  {
   "cell_type": "code",
   "execution_count": 85,
   "id": "290e1508-ce7e-46ba-807f-04d450e2b632",
   "metadata": {},
   "outputs": [
    {
     "data": {
      "image/png": "[encoded data removed]",
      "text/plain": [
       "<Figure size 360x360 with 2 Axes>"
      ]
     },
     "metadata": {
      "needs_background": "light"
     },
     "output_type": "display_data"
    }
   ],
   "source": [
    "plt.figure(figsize=(5,5))\n",
    "sns.heatmap(hm3, cmap='viridis', annot=True);"
   ]
  },
  {
   "cell_type": "markdown",
   "id": "244696d3-d0c3-44b7-b338-fb69f89b0444",
   "metadata": {
    "tags": []
   },
   "source": [
    "### EMA - Trend Indicator"
   ]
  },
  {
   "cell_type": "code",
   "execution_count": 112,
   "id": "365dcfc1-5c77-4ef7-84e3-bdc55581ac85",
   "metadata": {},
   "outputs": [],
   "source": [
    "class EmaCross(Strategy):\n",
    "    n1 = 21\n",
    "    n2 = 50\n",
    "    n3 = 100\n",
    "        \n",
    "    def init(self):\n",
    "        self.ema1 = self.I(ta.EMA, self.data.Close, self.n1)\n",
    "        self.ema2 = self.I(ta.EMA, self.data.Close, self.n2)\n",
    "        self.ema3 = self.I(ta.EMA, self.data.Close, self.n3)\n",
    "        \n",
    "    def next(self):\n",
    "        \n",
    "        if self.ema1 > self.ema2 > self.ema3:\n",
    "            if crossover(self.ema1,self.ema3):\n",
    "                self.position.close()\n",
    "                self.buy()\n",
    "                        \n",
    "        elif self.ema1 < self.ema2 < self.ema3:\n",
    "            if crossover(self.ema3, self.ema1):\n",
    "                self.position.close()\n",
    "                self.sell()"
   ]
  },
  {
   "cell_type": "code",
   "execution_count": 113,
   "id": "f06712ba-1330-4700-9f0d-ce0ef2a11cb9",
   "metadata": {},
   "outputs": [
    {
     "data": {
      "application/vnd.jupyter.widget-view+json": {
       "model_id": "",
       "version_major": 2,
       "version_minor": 0
      },
      "text/plain": [
       "  0%|          | 0/17 [00:00<?, ?it/s]"
      ]
     },
     "metadata": {},
     "output_type": "display_data"
    }
   ],
   "source": [
    "backtest = Backtest(df, EmaCross, cash=10000,commission=.002)\n",
    "stats, heatmap = backtest.optimize(\n",
    "    n1=range(10, 50, 10),\n",
    "    n2=range(50, 100, 10),\n",
    "    n3=range(100, 201, 10),\n",
    "    maximize='Win Rate [%]',\n",
    "    return_heatmap=True)"
   ]
  },
  {
   "cell_type": "code",
   "execution_count": 114,
   "id": "26dd43f0-9556-4063-9ce4-ab273d725e28",
   "metadata": {},
   "outputs": [
    {
     "data": {
      "text/plain": [
       "Start                     2012-01-02 00:00:00\n",
       "End                       2021-12-31 00:00:00\n",
       "Duration                   3651 days 00:00:00\n",
       "Exposure Time [%]                   91.582112\n",
       "Equity Final [$]                 11099.431829\n",
       "Equity Peak [$]                  11833.113669\n",
       "Return [%]                          10.994318\n",
       "Buy & Hold Return [%]              -12.113996\n",
       "Return (Ann.) [%]                    0.992713\n",
       "Volatility (Ann.) [%]                6.238538\n",
       "Sharpe Ratio                         0.159126\n",
       "Sortino Ratio                        0.231385\n",
       "Calmar Ratio                         0.070441\n",
       "Max. Drawdown [%]                  -14.092731\n",
       "Avg. Drawdown [%]                   -2.007404\n",
       "Max. Drawdown Duration     1837 days 00:00:00\n",
       "Avg. Drawdown Duration      158 days 00:00:00\n",
       "# Trades                                    1\n",
       "Win Rate [%]                            100.0\n",
       "Best Trade [%]                      10.995267\n",
       "Worst Trade [%]                     10.995267\n",
       "Avg. Trade [%]                      10.995267\n",
       "Max. Trade Duration        3339 days 00:00:00\n",
       "Avg. Trade Duration        3339 days 00:00:00\n",
       "Profit Factor                             NaN\n",
       "Expectancy [%]                      10.995267\n",
       "SQN                                       NaN\n",
       "_strategy                 EmaCross(n1=10,n...\n",
       "_equity_curve                             ...\n",
       "_trades                      Size  EntryBa...\n",
       "dtype: object"
      ]
     },
     "execution_count": 114,
     "metadata": {},
     "output_type": "execute_result"
    }
   ],
   "source": [
    "stats"
   ]
  },
  {
   "cell_type": "code",
   "execution_count": 116,
   "id": "71873f12-62ca-4409-bd85-3aa07e2ceeb8",
   "metadata": {},
   "outputs": [
    {
     "data": {
      "text/plain": [
       "<Strategy EmaCross(n1=10,n2=50,n3=190)>"
      ]
     },
     "execution_count": 116,
     "metadata": {},
     "output_type": "execute_result"
    }
   ],
   "source": [
    "stats[27]"
   ]
  },
  {
   "cell_type": "code",
   "execution_count": 117,
   "id": "c8f067a0-15a8-487f-b413-073a6079e672",
   "metadata": {},
   "outputs": [],
   "source": [
    "hm1 = heatmap.groupby(['n1','n2']).mean().unstack()\n",
    "hm2 = heatmap.groupby(['n1','n3']).mean().unstack()\n",
    "hm3 = heatmap.groupby(['n2','n3']).mean().unstack()"
   ]
  },
  {
   "cell_type": "code",
   "execution_count": 118,
   "id": "8b336457-9caa-4af3-94ac-b0b9c1a51e12",
   "metadata": {},
   "outputs": [
    {
     "data": {
      "image/png": "[encoded data removed]",
      "text/plain": [
       "<Figure size 360x360 with 2 Axes>"
      ]
     },
     "metadata": {
      "needs_background": "light"
     },
     "output_type": "display_data"
    }
   ],
   "source": [
    "plt.figure(figsize=(5,5))\n",
    "sns.heatmap(hm1, cmap='viridis', annot=True);"
   ]
  },
  {
   "cell_type": "code",
   "execution_count": 119,
   "id": "2a373ce2-b6b2-488b-8281-d018b6c55809",
   "metadata": {},
   "outputs": [
    {
     "data": {
      "image/png": "[encoded data removed]",
      "text/plain": [
       "<Figure size 360x360 with 2 Axes>"
      ]
     },
     "metadata": {
      "needs_background": "light"
     },
     "output_type": "display_data"
    }
   ],
   "source": [
    "plt.figure(figsize=(5,5))\n",
    "sns.heatmap(hm2, cmap='viridis', annot=True);"
   ]
  },
  {
   "cell_type": "code",
   "execution_count": 120,
   "id": "cc3984a3-bf00-4175-8c4d-a7c386222b8f",
   "metadata": {},
   "outputs": [
    {
     "data": {
      "image/png": "[encoded data removed]",
      "text/plain": [
       "<Figure size 360x360 with 2 Axes>"
      ]
     },
     "metadata": {
      "needs_background": "light"
     },
     "output_type": "display_data"
    }
   ],
   "source": [
    "plt.figure(figsize=(5,5))\n",
    "sns.heatmap(hm3, cmap='viridis', annot=True);"
   ]
  }
 ],
 "metadata": {
  "kernelspec": {
   "display_name": "Python 3 (ipykernel)",
   "language": "python",
   "name": "python3"
  },
  "language_info": {
   "codemirror_mode": {
    "name": "ipython",
    "version": 3
   },
   "file_extension": ".py",
   "mimetype": "text/x-python",
   "name": "python",
   "nbconvert_exporter": "python",
   "pygments_lexer": "ipython3",
   "version": "3.9.12"
  }
 },
 "nbformat": 4,
 "nbformat_minor": 5
}
