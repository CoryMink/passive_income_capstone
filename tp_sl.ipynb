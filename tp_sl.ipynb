{
 "cells": [
  {
   "cell_type": "code",
   "execution_count": 56,
   "id": "54751a5b-728b-4f0e-ad72-23e1acb20abc",
   "metadata": {},
   "outputs": [],
   "source": [
    "import pandas as pd\n",
    "import numpy  as np"
   ]
  },
  {
   "cell_type": "code",
   "execution_count": 77,
   "id": "0193c8f6-5876-4633-89f1-42b72911d6b8",
   "metadata": {},
   "outputs": [
    {
     "name": "stdout",
     "output_type": "stream",
     "text": [
      "TP=1 : SL=1\n",
      "-3010\n",
      "------------------------------\n",
      "TP=2 : SL=1\n",
      "2985\n",
      "------------------------------\n",
      "TP=3 : SL=1\n",
      "8980\n",
      "------------------------------\n",
      "TP=4 : SL=1\n",
      "14975\n",
      "------------------------------\n"
     ]
    }
   ],
   "source": [
    "# Win rate = 40%\n",
    "result = pd.Series(np.random.choice([0,1],p=[0.6,0.4],size=15000))\n",
    "result = pd.DataFrame(result, columns=['result'])\n",
    "for i in range(1,5):\n",
    "    result['total'] = result['result'].map({1:i,0:-1})\n",
    "    print(f'TP={i} : SL=1')\n",
    "    print(result['total'].sum())\n",
    "    print('-'*30)    "
   ]
  },
  {
   "cell_type": "code",
   "execution_count": 63,
   "id": "d16107e5-0225-4fe8-99ca-147f36807e88",
   "metadata": {},
   "outputs": [
    {
     "name": "stdout",
     "output_type": "stream",
     "text": [
      "TP=1 : SL=1\n",
      "-6070\n",
      "------------------------------\n",
      "TP=2 : SL=1\n",
      "-1605\n",
      "------------------------------\n",
      "TP=3 : SL=1\n",
      "2860\n",
      "------------------------------\n",
      "TP=4 : SL=1\n",
      "7325\n",
      "------------------------------\n"
     ]
    }
   ],
   "source": [
    "# Win rate = 30%\n",
    "result = pd.Series(np.random.choice([0,1],p=[0.7,0.3],size=15000))\n",
    "result = pd.DataFrame(result, columns=['result'])\n",
    "for i in range(1,5):\n",
    "    result['total'] = result['result'].map({1:i,0:-1})\n",
    "    print(f'TP={i} : SL=1')\n",
    "    print(result['total'].sum())\n",
    "    print('-'*30)"
   ]
  },
  {
   "cell_type": "code",
   "execution_count": 64,
   "id": "f072b415-8825-41fc-8555-5c4e377bd2ce",
   "metadata": {},
   "outputs": [
    {
     "name": "stdout",
     "output_type": "stream",
     "text": [
      "TP=1 : SL=1\n",
      "-7638\n",
      "------------------------------\n",
      "TP=2 : SL=1\n",
      "-3957\n",
      "------------------------------\n",
      "TP=3 : SL=1\n",
      "-276\n",
      "------------------------------\n",
      "TP=4 : SL=1\n",
      "3405\n",
      "------------------------------\n"
     ]
    }
   ],
   "source": [
    "# Win rate = 25%\n",
    "result = pd.Series(np.random.choice([0,1],p=[0.75,0.25],size=15000))\n",
    "result = pd.DataFrame(result, columns=['result'])\n",
    "for i in range(1,5):\n",
    "    result['total'] = result['result'].map({1:i,0:-1})\n",
    "    print(f'TP={i} : SL=1')\n",
    "    print(result['total'].sum())\n",
    "    print('-'*30)"
   ]
  },
  {
   "cell_type": "code",
   "execution_count": null,
   "id": "1db8faae-7d03-4230-ae14-91b02bacf0b2",
   "metadata": {},
   "outputs": [],
   "source": []
  }
 ],
 "metadata": {
  "kernelspec": {
   "display_name": "Python 3 (ipykernel)",
   "language": "python",
   "name": "python3"
  },
  "language_info": {
   "codemirror_mode": {
    "name": "ipython",
    "version": 3
   },
   "file_extension": ".py",
   "mimetype": "text/x-python",
   "name": "python",
   "nbconvert_exporter": "python",
   "pygments_lexer": "ipython3",
   "version": "3.9.12"
  }
 },
 "nbformat": 4,
 "nbformat_minor": 5
}
